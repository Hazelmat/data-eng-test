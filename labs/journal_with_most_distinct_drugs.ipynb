{
 "cells": [
  {
   "cell_type": "code",
   "execution_count": null,
   "id": "initial_id",
   "metadata": {},
   "outputs": [],
   "source": [
    "import ast\n",
    "import pandas as pd"
   ]
  },
  {
   "cell_type": "code",
   "execution_count": null,
   "id": "b36f39101a0d53ab",
   "metadata": {},
   "outputs": [],
   "source": [
    "data = {}\n",
    "with open(\"../output/drugs_mentions/output-00000-of-00001.json\", \"r\") as file:\n",
    "    for line in file:\n",
    "        line_dict = ast.literal_eval(line.strip())\n",
    "        data.update(line_dict)\n",
    "rows = []\n",
    "for drug, sources in data.items():\n",
    "    for source, journals in sources.items():\n",
    "        for journal_entry in journals:\n",
    "            journal, date = list(journal_entry.items())[0]\n",
    "            rows.append({\"drug\": drug, \"source\": source, \"journal\": journal, \"date\": date})\n",
    "\n",
    "df = pd.DataFrame(rows)"
   ]
  },
  {
   "cell_type": "markdown",
   "id": "d382b0b3a37f845f",
   "metadata": {},
   "source": [
    "### le nom du journal qui mentionne le plus de médicaments différents "
   ]
  },
  {
   "cell_type": "code",
   "execution_count": null,
   "id": "8b5a9e08b96a12d8",
   "metadata": {},
   "outputs": [],
   "source": [
    "df_distinct_drugs_by_journal = df.groupby(\"journal\")[\"drug\"].nunique().reset_index(name=\"distinct_drug_count\")\n",
    "max_distinct_drug_count = df_distinct_drugs_by_journal[\"distinct_drug_count\"].max()\n",
    "\n",
    "df_distinct_drugs_by_journal[df_distinct_drugs_by_journal[\"distinct_drug_count\"] == max_distinct_drug_count]"
   ]
  },
  {
   "cell_type": "code",
   "execution_count": null,
   "id": "3c9344f4503226b5",
   "metadata": {},
   "outputs": [],
   "source": []
  }
 ],
 "metadata": {
  "kernelspec": {
   "display_name": "Python 3",
   "language": "python",
   "name": "python3"
  },
  "language_info": {
   "codemirror_mode": {
    "name": "ipython",
    "version": 2
   },
   "file_extension": ".py",
   "mimetype": "text/x-python",
   "name": "python",
   "nbconvert_exporter": "python",
   "pygments_lexer": "ipython2",
   "version": "2.7.6"
  }
 },
 "nbformat": 4,
 "nbformat_minor": 5
}
