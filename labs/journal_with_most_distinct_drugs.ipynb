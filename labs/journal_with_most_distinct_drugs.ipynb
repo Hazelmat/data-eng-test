{
 "cells": [
  {
   "cell_type": "code",
   "execution_count": 39,
   "id": "initial_id",
   "metadata": {
    "collapsed": true,
    "ExecuteTime": {
     "end_time": "2023-09-22T15:06:03.849150Z",
     "start_time": "2023-09-22T15:06:03.837453Z"
    }
   },
   "outputs": [],
   "source": [
    "import ast\n",
    "import pandas as pd"
   ]
  },
  {
   "cell_type": "code",
   "execution_count": 40,
   "outputs": [],
   "source": [
    "data = {}\n",
    "with open(\"../output/drugs_mentions/output-00000-of-00001.json\", \"r\") as file:\n",
    "    for line in file:\n",
    "        line_dict = ast.literal_eval(line.strip())\n",
    "        data.update(line_dict)\n",
    "rows = []\n",
    "for drug, sources in data.items():\n",
    "    for source, journals in sources.items():\n",
    "        for journal_entry in journals:\n",
    "            journal, date = list(journal_entry.items())[0]\n",
    "            rows.append({\"drug\": drug, \"source\": source, \"journal\": journal, \"date\": date})\n",
    "\n",
    "df = pd.DataFrame(rows)"
   ],
   "metadata": {
    "collapsed": false,
    "ExecuteTime": {
     "end_time": "2023-09-22T15:06:04.346805Z",
     "start_time": "2023-09-22T15:06:04.336867Z"
    }
   },
   "id": "b36f39101a0d53ab"
  },
  {
   "cell_type": "markdown",
   "source": [
    "### le nom du journal qui mentionne le plus de médicaments différents "
   ],
   "metadata": {
    "collapsed": false
   },
   "id": "d382b0b3a37f845f"
  },
  {
   "cell_type": "code",
   "execution_count": 42,
   "outputs": [
    {
     "data": {
      "text/plain": "                                             journal  distinct_drug_count\n3                       journal of emergency nursing                    2\n6                                 psychopharmacology                    2\n8  the journal of maternal-fetal & neonatal medicine                    2",
      "text/html": "<div>\n<style scoped>\n    .dataframe tbody tr th:only-of-type {\n        vertical-align: middle;\n    }\n\n    .dataframe tbody tr th {\n        vertical-align: top;\n    }\n\n    .dataframe thead th {\n        text-align: right;\n    }\n</style>\n<table border=\"1\" class=\"dataframe\">\n  <thead>\n    <tr style=\"text-align: right;\">\n      <th></th>\n      <th>journal</th>\n      <th>distinct_drug_count</th>\n    </tr>\n  </thead>\n  <tbody>\n    <tr>\n      <th>3</th>\n      <td>journal of emergency nursing</td>\n      <td>2</td>\n    </tr>\n    <tr>\n      <th>6</th>\n      <td>psychopharmacology</td>\n      <td>2</td>\n    </tr>\n    <tr>\n      <th>8</th>\n      <td>the journal of maternal-fetal &amp; neonatal medicine</td>\n      <td>2</td>\n    </tr>\n  </tbody>\n</table>\n</div>"
     },
     "execution_count": 42,
     "metadata": {},
     "output_type": "execute_result"
    }
   ],
   "source": [
    "df_distinct_drugs_by_journal = df.groupby(\"journal\")[\"drug\"].nunique().reset_index(name=\"distinct_drug_count\")\n",
    "max_distinct_drug_count = df_distinct_drugs_by_journal[\"distinct_drug_count\"].max()\n",
    "\n",
    "df_distinct_drugs_by_journal[df_distinct_drugs_by_journal[\"distinct_drug_count\"] == max_distinct_drug_count]"
   ],
   "metadata": {
    "collapsed": false,
    "ExecuteTime": {
     "end_time": "2023-09-22T15:06:13.162200Z",
     "start_time": "2023-09-22T15:06:12.977934Z"
    }
   },
   "id": "8b5a9e08b96a12d8"
  },
  {
   "cell_type": "code",
   "execution_count": null,
   "outputs": [],
   "source": [],
   "metadata": {
    "collapsed": false
   },
   "id": "3c9344f4503226b5"
  }
 ],
 "metadata": {
  "kernelspec": {
   "display_name": "Python 3",
   "language": "python",
   "name": "python3"
  },
  "language_info": {
   "codemirror_mode": {
    "name": "ipython",
    "version": 2
   },
   "file_extension": ".py",
   "mimetype": "text/x-python",
   "name": "python",
   "nbconvert_exporter": "python",
   "pygments_lexer": "ipython2",
   "version": "2.7.6"
  }
 },
 "nbformat": 4,
 "nbformat_minor": 5
}
